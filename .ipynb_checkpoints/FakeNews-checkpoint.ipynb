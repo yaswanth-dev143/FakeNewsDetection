{
 "cells": [
  {
   "cell_type": "code",
   "execution_count": 1,
   "id": "5789f116-a6a5-4ad7-8cdf-1eedb2ed2613",
   "metadata": {},
   "outputs": [],
   "source": [
    "import pandas as pd\n",
    "import numpy as np\n",
    "from sklearn.feature_extraction.text import TfidfVectorizer\n",
    "from sklearn.linear_model import PassiveAggressiveClassifier, LogisticRegression\n",
    "from sklearn.naive_bayes import MultinomialNB\n",
    "from sklearn.svm import LinearSVC\n",
    "from sklearn.tree import DecisionTreeClassifier\n",
    "from sklearn.metrics import accuracy_score, confusion_matrix, classification_report\n",
    "from sklearn.model_selection import train_test_split\n",
    "from IPython.display import display\n",
    "import ipywidgets as widgets\n",
    "from sklearn.utils.class_weight import compute_class_weight"
   ]
  },
  {
   "cell_type": "code",
   "execution_count": 2,
   "id": "36d910a7-41a6-42b4-aa61-ce4a8d939980",
   "metadata": {},
   "outputs": [],
   "source": [
    "# Load the dataset\n",
    "df = pd.read_csv(\"news.csv\")  # Update the path to where your data is located\n",
    "\n",
    "# Get the independent features (X) and the dependent target (y)\n",
    "X = df['text']\n",
    "y = df['label']\n",
    "\n",
    "# Split the dataset into training and testing sets\n",
    "X_train, X_test, y_train, y_test = train_test_split(X, y, test_size=0.2, random_state=42)\n",
    "\n",
    "# Initialize a TfidfVectorizer\n",
    "tfidf_vectorizer = TfidfVectorizer(stop_words='english', max_df=0.7, min_df=5)\n",
    "tfidf_vectorizer = TfidfVectorizer(stop_words='english', max_df=0.7, min_df=5, ngram_range=(1,2))\n",
    "\n",
    "# Fit and transform the training set, transform the test set\n",
    "tfidf_train = tfidf_vectorizer.fit_transform(X_train)\n",
    "tfidf_test = tfidf_vectorizer.transform(X_test)\n",
    "\n",
    "# Compute class weights based on your training labels\n",
    "class_weights = compute_class_weight(class_weight='balanced', classes=np.unique(y_train), y=y_train)\n",
    "class_weights_dict = dict(enumerate(class_weights))"
   ]
  },
  {
   "cell_type": "code",
   "execution_count": 3,
   "id": "5fc7eb61-076b-4afb-840d-073a3c15c26e",
   "metadata": {},
   "outputs": [],
   "source": [
    "# Model initialization\n",
    "models = {\n",
    "    \"Passive Aggressive Classifier\": PassiveAggressiveClassifier(max_iter=100, class_weight='balanced'),\n",
    "    \"Logistic Regression\": LogisticRegression(max_iter=200, class_weight= class_weights_dict),\n",
    "    \"Naive Bayes\": MultinomialNB(),\n",
    "    \"Support Vector Machine\": LinearSVC(class_weight=class_weights_dict , max_iter=500),\n",
    "    \"Decision Tree\": DecisionTreeClassifier(class_weight=class_weights_dict, max_depth=20, random_state=42)\n",
    "}"
   ]
  },
  {
   "cell_type": "code",
   "execution_count": 4,
   "id": "1993cd46-a9b1-44ea-a4aa-d7cdd1253ed7",
   "metadata": {},
   "outputs": [],
   "source": [
    "# Function to get predictions\n",
    "def predict_news(news_text, model):\n",
    "    example_tfidf = tfidf_vectorizer.transform([news_text])\n",
    "    prediction = model.predict(example_tfidf)\n",
    "    return \"Real\" if prediction[0] == 0 else \"Fake\"\n",
    "\n",
    "# Function to display model metrics\n",
    "def display_model_metrics(model_choice):\n",
    "    model = models[model_choice]\n",
    "    model.fit(tfidf_train, y_train)\n",
    "    y_pred = model.predict(tfidf_test)\n",
    "\n",
    "    accuracy = accuracy_score(y_test, y_pred)\n",
    "    cm = confusion_matrix(y_test, y_pred)\n",
    "    cr = classification_report(y_test, y_pred)\n",
    "    \n",
    "    print(f\"Accuracy: {accuracy * 100:.2f}%\")\n",
    "    print(\"Confusion Matrix:\")\n",
    "    print(cm)\n",
    "    print(\"Classification Report:\")\n",
    "    print(cr)"
   ]
  },
  {
   "cell_type": "code",
   "execution_count": 7,
   "id": "e3f5589c-8852-4f2b-a98f-0ef178497600",
   "metadata": {},
   "outputs": [
    {
     "data": {
      "application/vnd.jupyter.widget-view+json": {
       "model_id": "e2c7c14ad40f45bf893661f6d31f4c76",
       "version_major": 2,
       "version_minor": 0
      },
      "text/plain": [
       "Dropdown(description='Model:', options=('Passive Aggressive Classifier', 'Logistic Regression', 'Naive Bayes',…"
      ]
     },
     "metadata": {},
     "output_type": "display_data"
    },
    {
     "data": {
      "application/vnd.jupyter.widget-view+json": {
       "model_id": "adc7e1731df841ce8798bc2eac60f6c4",
       "version_major": 2,
       "version_minor": 0
      },
      "text/plain": [
       "Textarea(value='', description='News Text:')"
      ]
     },
     "metadata": {},
     "output_type": "display_data"
    },
    {
     "data": {
      "application/vnd.jupyter.widget-view+json": {
       "model_id": "3d05498499e344d283b655e4141b65b9",
       "version_major": 2,
       "version_minor": 0
      },
      "text/plain": [
       "Button(description='Check News', style=ButtonStyle())"
      ]
     },
     "metadata": {},
     "output_type": "display_data"
    },
    {
     "data": {
      "application/vnd.jupyter.widget-view+json": {
       "model_id": "4305d61a276945739512d0587bed1cf3",
       "version_major": 2,
       "version_minor": 0
      },
      "text/plain": [
       "Output()"
      ]
     },
     "metadata": {},
     "output_type": "display_data"
    }
   ],
   "source": [
    "# Interactive widgets\n",
    "model_dropdown = widgets.Dropdown(options=list(models.keys()), description=\"Model:\")\n",
    "text_area = widgets.Textarea(description=\"News Text:\")\n",
    "button = widgets.Button(description=\"Check News\")\n",
    "output = widgets.Output()\n",
    "\n",
    "def on_button_clicked(b):\n",
    "    with output:\n",
    "        output.clear_output()\n",
    "        if text_area.value:\n",
    "            selected_model = models[model_dropdown.value]\n",
    "            if not hasattr(selected_model, \"coef_\"):  # Check if the model is fitted\n",
    "                selected_model.fit(tfidf_train, y_train)  # Fit the model\n",
    "            result = predict_news(text_area.value, selected_model)\n",
    "            print(f\"The news is predicted as: {result}\")\n",
    "        else:\n",
    "            print(\"Please enter a news headline.\")\n",
    "\n",
    "button.on_click(on_button_clicked)\n",
    "\n",
    "# Display widgets\n",
    "display(model_dropdown, text_area, button, output)"
   ]
  },
  {
   "cell_type": "raw",
   "id": "22c1b190-94c4-407b-9881-6065582fbba5",
   "metadata": {},
   "source": []
  }
 ],
 "metadata": {
  "kernelspec": {
   "display_name": "Python 3 (ipykernel)",
   "language": "python",
   "name": "python3"
  },
  "language_info": {
   "codemirror_mode": {
    "name": "ipython",
    "version": 3
   },
   "file_extension": ".py",
   "mimetype": "text/x-python",
   "name": "python",
   "nbconvert_exporter": "python",
   "pygments_lexer": "ipython3",
   "version": "3.11.7"
  }
 },
 "nbformat": 4,
 "nbformat_minor": 5
}
